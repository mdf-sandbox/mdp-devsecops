{
 "cells": [
  {
   "cell_type": "code",
   "execution_count": null,
   "metadata": {},
   "outputs": [],
   "source": [
    "from io import StringIO\n",
    "import sys\n",
    "import ast"
   ]
  },
  {
   "cell_type": "code",
   "execution_count": null,
   "metadata": {},
   "outputs": [],
   "source": [
    "tmp = sys.stdout\n",
    "buffer = StringIO()\n",
    "sys.stdout = buffer"
   ]
  },
  {
   "cell_type": "code",
   "execution_count": null,
   "metadata": {},
   "outputs": [],
   "source": [
    "DATABRICKS_VOLUMES_ARTIFACT_PATH = dbutils.widgets.get(\"DATABRICKS_VOLUMES_ARTIFACT_PATH\")\n",
    "ADLS_ARTIFACT_PATH = dbutils.widgets.get(\"ADLS_ARTIFACT_PATH\")"
   ]
  },
  {
   "cell_type": "code",
   "execution_count": null,
   "metadata": {},
   "outputs": [],
   "source": [
    "try:\n",
    "    for path in ast.literal_eval(ADLS_ARTIFACT_PATH):\n",
    "        SOURCE_PATH=path['key']\n",
    "        DEST_PATH=path['value']\n",
    "        print(f\"Creating directory in volume path {DATABRICKS_VOLUMES_ARTIFACT_PATH}{DEST_PATH}...\")\n",
    "        dbutils.fs.mkdirs(f\"{DATABRICKS_VOLUMES_ARTIFACT_PATH}{DEST_PATH}\")\n",
    "        print(\"->\", \"Done\")\n",
    "        print(f\"Listing files in volume path {DATABRICKS_VOLUMES_ARTIFACT_PATH}{DEST_PATH}...\")\n",
    "        dbutils_fs_ls = dbutils.fs.ls(f\"{DATABRICKS_VOLUMES_ARTIFACT_PATH}{DEST_PATH}\")\n",
    "        if(len(dbutils_fs_ls) > 0):\n",
    "            for file in dbutils_fs_ls:\n",
    "                print(\"->\", file)\n",
    "        else:\n",
    "            print(\"->\", \"[]\")\n",
    "        print(f\"Deleting files in volume path {DATABRICKS_VOLUMES_ARTIFACT_PATH}{DEST_PATH}...\")\n",
    "        dbutils.fs.rm(f\"{DATABRICKS_VOLUMES_ARTIFACT_PATH}{DEST_PATH}\", True)\n",
    "        print(\"->\", \"Done\", end=\"\\n\")\n",
    "        print(\"\")\n",
    "except Exception as err:\n",
    "    print(f\"Unexpected {err=}, {type(err)}\")\n",
    "    raise"
   ]
  },
  {
   "cell_type": "code",
   "execution_count": null,
   "metadata": {},
   "outputs": [],
   "source": [
    "print_output = buffer.getvalue()\n",
    "sys.stdout = tmp\n",
    "dbutils.notebook.exit(print_output)"
   ]
  },
  {
   "cell_type": "code",
   "execution_count": null,
   "metadata": {},
   "outputs": [],
   "source": [
    "import time\n",
    "\n",
    "# creating a time delay of 90 minutes\n",
    "time.sleep(90 * 60)"
   ]
  }
 ],
 "metadata": {
  "language_info": {
   "name": "python"
  }
 },
 "nbformat": 4,
 "nbformat_minor": 2
}
