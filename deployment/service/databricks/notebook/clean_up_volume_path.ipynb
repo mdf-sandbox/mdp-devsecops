{
 "cells": [
  {
   "cell_type": "code",
   "execution_count": null,
   "metadata": {},
   "outputs": [],
   "source": [
    "from io import StringIO\n",
    "import sys\n",
    "import ast"
   ]
  },
  {
   "cell_type": "code",
   "execution_count": null,
   "metadata": {},
   "outputs": [],
   "source": [
    "tmp = sys.stdout\n",
    "buffer = StringIO()\n",
    "sys.stdout = buffer"
   ]
  },
  {
   "cell_type": "code",
   "execution_count": null,
   "metadata": {},
   "outputs": [],
   "source": [
    "DATABRICKS_VOLUMES_ARTIFACT_PATH = dbutils.widgets.get(\"DATABRICKS_VOLUMES_ARTIFACT_PATH\")\n",
    "ADLS_ARTIFACT_PATH = dbutils.widgets.get(\"ADLS_ARTIFACT_PATH\")"
   ]
  },
  {
   "cell_type": "code",
   "execution_count": null,
   "metadata": {},
   "outputs": [],
   "source": [
    "try:\n",
    "    for path in ast.literal_eval(ADLS_ARTIFACT_PATH):\n",
    "        SOURCE_PATH=path['key']\n",
    "        DEST_PATH=path['value']\n",
    "        print(f\"Creating directory in volume path {DATABRICKS_VOLUMES_ARTIFACT_PATH}{DEST_PATH}...\")\n",
    "        print(\"->\", dbutils.fs.mkdirs(f\"{DATABRICKS_VOLUMES_ARTIFACT_PATH}{DEST_PATH}\"))\n",
    "        print(f\"Listing files in volume path {DATABRICKS_VOLUMES_ARTIFACT_PATH}{DEST_PATH}...\")\n",
    "        print(\"->\", dbutils.fs.ls(f\"{DATABRICKS_VOLUMES_ARTIFACT_PATH}{DEST_PATH}\"))\n",
    "        print(f\"Deleting files in volume path {DATABRICKS_VOLUMES_ARTIFACT_PATH}{DEST_PATH}...\")\n",
    "        print(\"->\", dbutils.fs.rm(f\"{DATABRICKS_VOLUMES_ARTIFACT_PATH}{DEST_PATH}\", True))\n",
    "        print(\"Done\\n.\")\n",
    "except Exception as err:\n",
    "    print(f\"Unexpected {err=}, {type(err)}\")\n",
    "    raise"
   ]
  },
  {
   "cell_type": "code",
   "execution_count": null,
   "metadata": {},
   "outputs": [],
   "source": [
    "print_output = buffer.getvalue()\n",
    "sys.stdout = tmp\n",
    "dbutils.notebook.exit(print_output)"
   ]
  }
 ],
 "metadata": {
  "language_info": {
   "name": "python"
  }
 },
 "nbformat": 4,
 "nbformat_minor": 2
}
